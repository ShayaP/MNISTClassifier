{
 "cells": [
  {
   "cell_type": "code",
   "execution_count": 121,
   "metadata": {},
   "outputs": [],
   "source": [
    "import csv\n",
    "import numpy as np\n",
    "import matplotlib.pyplot as plt\n",
    "from collections import defaultdict\n",
    "from scipy.stats import multivariate_normal as mvn\n",
    "import random"
   ]
  },
  {
   "cell_type": "markdown",
   "metadata": {},
   "source": [
    "<b>Read in the dataset"
   ]
  },
  {
   "cell_type": "code",
   "execution_count": 96,
   "metadata": {},
   "outputs": [],
   "source": [
    "train = []\n",
    "with open('mnist_train.csv', 'r') as f:\n",
    "    reader = csv.reader(f)\n",
    "    train.append(list(reader))\n",
    "train =  train[0]\n",
    "\n",
    "test = []\n",
    "with open('mnist_test.csv', 'r') as f:\n",
    "    reader = csv.reader(f)\n",
    "    test.append(list(reader))\n",
    "test =  test[0]"
   ]
  },
  {
   "cell_type": "code",
   "execution_count": 97,
   "metadata": {},
   "outputs": [],
   "source": [
    "y_train = [int(t[0]) for t in train]\n",
    "train = [t[1:] for t in train]\n",
    "y_test = [int(t[0]) for t in test]\n",
    "test = [t[1:] for t in test]"
   ]
  },
  {
   "cell_type": "code",
   "execution_count": 98,
   "metadata": {},
   "outputs": [],
   "source": [
    "for index, t in enumerate(train):\n",
    "    for ind ,a in enumerate(t):\n",
    "         train[index][ind] = int(a)"
   ]
  },
  {
   "cell_type": "code",
   "execution_count": 99,
   "metadata": {},
   "outputs": [],
   "source": [
    "for index, t in enumerate(test):\n",
    "    for ind ,a in enumerate(t):\n",
    "         test[index][ind] = int(a)"
   ]
  },
  {
   "cell_type": "code",
   "execution_count": 122,
   "metadata": {},
   "outputs": [
    {
     "data": {
      "image/png": "[encoded data removed]",
      "text/plain": [
       "<Figure size 432x288 with 1 Axes>"
      ]
     },
     "metadata": {
      "needs_background": "light"
     },
     "output_type": "display_data"
    }
   ],
   "source": [
    "#see some of the data points.\n",
    "plt.imshow(np.reshape(train[random.randint(1,1000)], [28,28]), cmap='Greys_r') \n",
    "plt.title('Visualizing a random sample')\n",
    "plt.show()"
   ]
  },
  {
   "cell_type": "markdown",
   "metadata": {},
   "source": [
    "<b>create a bayes model to train on the data"
   ]
  },
  {
   "cell_type": "code",
   "execution_count": 100,
   "metadata": {},
   "outputs": [],
   "source": [
    "#find the likelhood of each class appearing\n",
    "class_data = defaultdict(list)\n",
    "class_counts = defaultdict(int)\n",
    "class_labels = defaultdict(list)\n",
    "\n",
    "for i in range(len(y_train)):\n",
    "    y = y_train[i]\n",
    "    x = train[i]\n",
    "    if y == 0:\n",
    "        class_counts[0] += 1\n",
    "        class_data[0].append(x)\n",
    "        class_labels[0].append(y)\n",
    "    elif y == 1:\n",
    "        class_counts[1] += 1\n",
    "        class_data[1].append(x)\n",
    "        class_labels[1].append(y)\n",
    "    elif y == 2:\n",
    "        class_counts[2] += 1\n",
    "        class_data[2].append(x)\n",
    "        class_labels[2].append(y)\n",
    "    elif y == 3:\n",
    "        class_counts[3] += 1\n",
    "        class_data[3].append(x)\n",
    "        class_labels[3].append(y)\n",
    "    elif y == 4:\n",
    "        class_counts[4] += 1\n",
    "        class_data[4].append(x)\n",
    "        class_labels[4].append(y)\n",
    "    elif y == 5:\n",
    "        class_counts[5] += 1\n",
    "        class_data[5].append(x)\n",
    "        class_labels[5].append(y)\n",
    "    elif y == 6:\n",
    "        class_counts[6] += 1\n",
    "        class_data[6].append(x)\n",
    "        class_labels[6].append(y)\n",
    "    elif y == 7:\n",
    "        class_counts[7] += 1\n",
    "        class_data[7].append(x)\n",
    "        class_labels[7].append(y)\n",
    "    elif y == 8:\n",
    "        class_counts[8] += 1\n",
    "        class_data[8].append(x)\n",
    "        class_labels[8].append(y)\n",
    "    elif y == 9:\n",
    "        class_counts[9] += 1\n",
    "        class_data[9].append(x)\n",
    "        class_labels[9].append(y)"
   ]
  },
  {
   "cell_type": "code",
   "execution_count": 101,
   "metadata": {},
   "outputs": [],
   "source": [
    "total = 0\n",
    "class_probs = {}\n",
    "for val in class_counts.values():\n",
    "    total += val\n",
    "for key, val in class_counts.items():\n",
    "    class_probs[key] = val / total"
   ]
  },
  {
   "cell_type": "code",
   "execution_count": 102,
   "metadata": {},
   "outputs": [
    {
     "data": {
      "text/plain": [
       "<BarContainer object of 10 artists>"
      ]
     },
     "execution_count": 102,
     "metadata": {},
     "output_type": "execute_result"
    },
    {
     "data": {
      "image/png": "[encoded data removed]",
      "text/plain": [
       "<Figure size 432x288 with 1 Axes>"
      ]
     },
     "metadata": {
      "needs_background": "light"
     },
     "output_type": "display_data"
    }
   ],
   "source": [
    "#see how the data is distributed\n",
    "plt.bar(class_counts.keys(), class_counts.values())"
   ]
  },
  {
   "cell_type": "code",
   "execution_count": 103,
   "metadata": {},
   "outputs": [
    {
     "data": {
      "text/plain": [
       "defaultdict(int,\n",
       "            {5: 5421,\n",
       "             0: 5923,\n",
       "             4: 5842,\n",
       "             1: 6742,\n",
       "             9: 5949,\n",
       "             2: 5958,\n",
       "             3: 6131,\n",
       "             6: 5918,\n",
       "             7: 6265,\n",
       "             8: 5851})"
      ]
     },
     "execution_count": 103,
     "metadata": {},
     "output_type": "execute_result"
    }
   ],
   "source": [
    "class_counts"
   ]
  },
  {
   "cell_type": "code",
   "execution_count": 115,
   "metadata": {},
   "outputs": [],
   "source": [
    "#keep track of mean and variance\n",
    "mean_var_dict = {}\n",
    "alpha = 1e-2\n",
    "\n",
    "X = np.array(train)\n",
    "Y = np.array(y_train)\n",
    "\n",
    "#find the norm\n",
    "labels = set(Y)\n",
    "for c in range(10):\n",
    "    current_x = np.array(class_data[c])\n",
    "    mean_var_dict[c] = {'mean': current_x.mean(axis=0), 'var': current_x.var(axis=0) + alpha}"
   ]
  },
  {
   "cell_type": "code",
   "execution_count": 116,
   "metadata": {},
   "outputs": [],
   "source": [
    "#function to predict using naive bayes method\n",
    "def predict(X):\n",
    "    P = np.zeros((X.shape[0], len(mean_var_dict)))\n",
    "    for k, v in mean_var_dict.items():\n",
    "        P[:,k] = mvn.logpdf(X, mean=v['mean'], cov=v['var']) + np.log(class_probs[c])\n",
    "    return np.argmax(P, axis=1)"
   ]
  },
  {
   "cell_type": "code",
   "execution_count": 117,
   "metadata": {},
   "outputs": [
    {
     "name": "stdout",
     "output_type": "stream",
     "text": [
      "accuracy for training was:  0.6145833333333334\n"
     ]
    }
   ],
   "source": [
    "#score the model on the train set\n",
    "predictions = predict(np.array(train))\n",
    "score, total = 0, 0\n",
    "for i, j in zip(predictions, y_train):\n",
    "    if i == j:\n",
    "        score += 1\n",
    "    total += 1\n",
    "print('accuracy for training was: ', score / total)"
   ]
  },
  {
   "cell_type": "code",
   "execution_count": 118,
   "metadata": {},
   "outputs": [
    {
     "name": "stdout",
     "output_type": "stream",
     "text": [
      "accuracy for test was:  0.6129\n"
     ]
    }
   ],
   "source": [
    "#score the model on the test set\n",
    "predictions = predict(np.array(test))\n",
    "score, total = 0, 0\n",
    "for i, j in zip(predictions, y_test):\n",
    "    if i == j:\n",
    "        score += 1\n",
    "    total += 1\n",
    "print('accuracy for test was: ', score / total)"
   ]
  },
  {
   "cell_type": "code",
   "execution_count": 123,
   "metadata": {},
   "outputs": [
    {
     "name": "stdout",
     "output_type": "stream",
     "text": [
      "accuracy for test was:  0.65\n"
     ]
    }
   ],
   "source": [
    "#score the model on the first 100 test set\n",
    "predictions = predict(np.array(test[:100]))\n",
    "score, total = 0, 0\n",
    "for i, j in zip(predictions, y_test):\n",
    "    if i == j:\n",
    "        score += 1\n",
    "    total += 1\n",
    "print('accuracy for test was: ', score / total)"
   ]
  },
  {
   "cell_type": "markdown",
   "metadata": {},
   "source": [
    "<b>Implementation of K-Nearest Neighbours"
   ]
  },
  {
   "cell_type": "code",
   "execution_count": 108,
   "metadata": {},
   "outputs": [],
   "source": [
    "#function to calculate the distance between two images.\n",
    "def euc_distance(a, b):\n",
    "    l = [(x-y)**2 for x,y in zip(a,b)]\n",
    "    # calculate the distance between data points\n",
    "    return sum(l)"
   ]
  },
  {
   "cell_type": "code",
   "execution_count": 109,
   "metadata": {},
   "outputs": [],
   "source": [
    "def find_max_occurence(data):\n",
    "    # find the most common class\n",
    "    counts = defaultdict(int)\n",
    "    for d in data:\n",
    "        counts[d] += 1\n",
    "        \n",
    "    # return the most common class in the k neighbours.\n",
    "    max_count = max(counts.values())\n",
    "    for key, value in counts.items():\n",
    "        if value == max_count:\n",
    "            return key"
   ]
  },
  {
   "cell_type": "code",
   "execution_count": 124,
   "metadata": {},
   "outputs": [],
   "source": [
    "def predict(k, X, y, X_test):\n",
    "    distances = []\n",
    "    train_data = zip(X, y)\n",
    "    for image, label in train_data:\n",
    "        distances.append((euc_distance(X_test,image),label))\n",
    "    \n",
    "    # sort the distances\n",
    "    sorted_dist = sorted(distances, key=lambda distance: distance[0])\n",
    "    \n",
    "    # extract only k closest labels\n",
    "    knn = [label for (a, label) in sorted_dist[:k]]\n",
    "    \n",
    "    return find_max_occurence(knn)"
   ]
  },
  {
   "cell_type": "code",
   "execution_count": null,
   "metadata": {},
   "outputs": [],
   "source": [
    "score, total = 0, 0\n",
    "sub_test = test[:100]\n",
    "for i in range(len(sub_test)):\n",
    "    x = test[i]\n",
    "    pred = predict(3, train, y_train, x)\n",
    "    if pred == y_test[i]:\n",
    "        score += 1\n",
    "    total += 1\n",
    "    \n",
    "print('accuracy was: ', score / total)"
   ]
  },
  {
   "cell_type": "code",
   "execution_count": null,
   "metadata": {},
   "outputs": [],
   "source": []
  }
 ],
 "metadata": {
  "kernelspec": {
   "display_name": "Python 3",
   "language": "python",
   "name": "python3"
  },
  "language_info": {
   "codemirror_mode": {
    "name": "ipython",
    "version": 3
   },
   "file_extension": ".py",
   "mimetype": "text/x-python",
   "name": "python",
   "nbconvert_exporter": "python",
   "pygments_lexer": "ipython3",
   "version": "3.7.0"
  }
 },
 "nbformat": 4,
 "nbformat_minor": 2
}
